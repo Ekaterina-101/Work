{
 "cells": [
  {
   "cell_type": "code",
   "execution_count": 5,
   "id": "289be232",
   "metadata": {},
   "outputs": [
    {
     "name": "stderr",
     "output_type": "stream",
     "text": [
      "Traceback (most recent call last):\n",
      "  File \"C:\\Users\\Екатерина\\titohuyanik\\PythonProject1\\Scripts\\gui_interface.py\", line 9, in <module>\n",
      "    from Library.data_processing import (\n",
      "ModuleNotFoundError: No module named 'Library.data_processing'\n"
     ]
    }
   ],
   "source": [
    "!python gui_interface.py"
   ]
  },
  {
   "cell_type": "code",
   "execution_count": null,
   "id": "3ebb0da7",
   "metadata": {},
   "outputs": [],
   "source": []
  }
 ],
 "metadata": {
  "kernelspec": {
   "display_name": "Python 3 (ipykernel)",
   "language": "python",
   "name": "python3"
  },
  "language_info": {
   "codemirror_mode": {
    "name": "ipython",
    "version": 3
   },
   "file_extension": ".py",
   "mimetype": "text/x-python",
   "name": "python",
   "nbconvert_exporter": "python",
   "pygments_lexer": "ipython3",
   "version": "3.11.4"
  }
 },
 "nbformat": 4,
 "nbformat_minor": 5
}
